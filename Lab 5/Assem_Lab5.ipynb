{
 "cells": [
  {
   "cell_type": "code",
   "execution_count": 5,
   "metadata": {},
   "outputs": [
    {
     "name": "stdout",
     "output_type": "stream",
     "text": [
      "\n",
      "Enter four parameters of flower: 1.2 3.4 5.6 2.3\n",
      "Flower type is: VERSICOLOR\n"
     ]
    }
   ],
   "source": [
    "import numpy as np\n",
    "import pandas as pd\n",
    "import matplotlib.pyplot as plt\n",
    "from sklearn import datasets\n",
    "iris = datasets.load_iris()\n",
    "\n",
    "input_data = input(\"\\nEnter four parameters of flower: \").split()\n",
    "for i in range(len(input_data)):\n",
    "    input_data[i] = float(input_data[i])\n",
    "    \n",
    "sepal_length = input_data[0]\n",
    "sepal_width = input_data[1]\n",
    "petal_length = input_data[2]\n",
    "petal_width = input_data[3]\n",
    "\n",
    "if petal_width < 1:\n",
    "        print('Flower type is: SETOSA')\n",
    "        found = 1\n",
    "elif petal_width >=1 and float(petalwidth) <=1.6:\n",
    "        print('Flower type is: VERSICOLOR')\n",
    "        found = 1\n",
    "elif petal_width >=1.8:\n",
    "        print('Flower type is: VIRGINICA')\n",
    "        found = 1\n",
    "        \n",
    "if found == 0:\n",
    "    if float(sepal_length) >= 5.7 and float(sepal_width) >= 2.5 and petal_length >= 4.5 and petal_width >= 1.6:\n",
    "        print('Flower type is: VIRGINICA')\n",
    "    else: \n",
    "        print('Flower type is: VERSICOLOR')"
   ]
  },
  {
   "cell_type": "code",
   "execution_count": null,
   "metadata": {
    "collapsed": true
   },
   "outputs": [],
   "source": []
  }
 ],
 "metadata": {
  "kernelspec": {
   "display_name": "Python 3",
   "language": "python",
   "name": "python3"
  },
  "language_info": {
   "codemirror_mode": {
    "name": "ipython",
    "version": 3
   },
   "file_extension": ".py",
   "mimetype": "text/x-python",
   "name": "python",
   "nbconvert_exporter": "python",
   "pygments_lexer": "ipython3",
   "version": "3.6.1"
  }
 },
 "nbformat": 4,
 "nbformat_minor": 2
}
